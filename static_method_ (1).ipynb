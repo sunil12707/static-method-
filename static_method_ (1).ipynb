{
  "cells": [
    {
      "cell_type": "code",
      "execution_count": null,
      "id": "e060f21d-1f71-412b-896e-13875cb56621",
      "metadata": {
        "id": "e060f21d-1f71-412b-896e-13875cb56621"
      },
      "outputs": [],
      "source": [
        "class astra :\n",
        "\n",
        "    def student_details(self , name , mail_id , number) :\n",
        "        print(name , mail_id, number)\n"
      ]
    },
    {
      "cell_type": "code",
      "execution_count": null,
      "id": "fc20f522-a568-40c7-adc0-03b9ca5509ac",
      "metadata": {
        "id": "fc20f522-a568-40c7-adc0-03b9ca5509ac"
      },
      "outputs": [],
      "source": [
        "pw = astra()"
      ]
    },
    {
      "cell_type": "code",
      "execution_count": null,
      "id": "97df5140-0234-493c-a4e7-783fffe92fbe",
      "metadata": {
        "id": "97df5140-0234-493c-a4e7-783fffe92fbe",
        "outputId": "0158dd13-531e-400d-88a0-9165c4dd62a8",
        "colab": {
          "base_uri": "https://localhost:8080/"
        }
      },
      "outputs": [
        {
          "output_type": "stream",
          "name": "stdout",
          "text": [
            "sudh sudh@gmail.com 912342342\n"
          ]
        }
      ],
      "source": [
        "pw.student_details(\"sudh\" , \"sudh@gmail.com\" , 912342342)"
      ]
    },
    {
      "cell_type": "code",
      "execution_count": null,
      "id": "8d71761f-8796-4cc3-881e-fbe156b01021",
      "metadata": {
        "id": "8d71761f-8796-4cc3-881e-fbe156b01021"
      },
      "outputs": [],
      "source": [
        "class astr1 :\n",
        "\n",
        "    def student_details(self , name , mail_id , number) :\n",
        "        print(name , mail_id, number)\n",
        "\n",
        "    @staticmethod\n",
        "    def mentor_class(list_mentor) :\n",
        "        print(list_mentor)\n",
        "\n",
        "    def mentor(self ,mentor_list):\n",
        "        print(mentor_list)\n"
      ]
    },
    {
      "cell_type": "code",
      "execution_count": null,
      "id": "e85e0d40-752b-48e0-9cb9-993fca45f656",
      "metadata": {
        "id": "e85e0d40-752b-48e0-9cb9-993fca45f656",
        "outputId": "a977e427-a046-418a-e18e-a67e34caedae",
        "colab": {
          "base_uri": "https://localhost:8080/"
        }
      },
      "outputs": [
        {
          "output_type": "stream",
          "name": "stdout",
          "text": [
            "['sudh', 'krish']\n"
          ]
        }
      ],
      "source": [
        "astr1.mentor_class([\"sudh\" , \"krish\"])"
      ]
    },
    {
      "cell_type": "code",
      "execution_count": null,
      "id": "718846a5-b9be-4046-996c-00fc6ded9e33",
      "metadata": {
        "id": "718846a5-b9be-4046-996c-00fc6ded9e33"
      },
      "outputs": [],
      "source": [
        "stu1 =astr1()"
      ]
    },
    {
      "cell_type": "code",
      "execution_count": null,
      "id": "4b83b370-0fec-48a5-869f-99f9733a200b",
      "metadata": {
        "id": "4b83b370-0fec-48a5-869f-99f9733a200b"
      },
      "outputs": [],
      "source": [
        "stu2 = astr1()"
      ]
    },
    {
      "cell_type": "code",
      "execution_count": null,
      "id": "f2c243af-1b4a-4d76-a4d0-d9b6c3f3d460",
      "metadata": {
        "id": "f2c243af-1b4a-4d76-a4d0-d9b6c3f3d460"
      },
      "outputs": [],
      "source": [
        "stu3 = astr1()"
      ]
    },
    {
      "cell_type": "code",
      "execution_count": null,
      "id": "07e46235-0d6d-47b2-ad11-065aa571e4bf",
      "metadata": {
        "id": "07e46235-0d6d-47b2-ad11-065aa571e4bf",
        "outputId": "12b9d39e-a5a6-4ef3-9e99-68e4e88582ce",
        "colab": {
          "base_uri": "https://localhost:8080/"
        }
      },
      "outputs": [
        {
          "output_type": "stream",
          "name": "stdout",
          "text": [
            "['sudh', 'sunil']\n"
          ]
        }
      ],
      "source": [
        "stu1.mentor([\"sudh\" , \"sunil\"])"
      ]
    },
    {
      "cell_type": "code",
      "execution_count": null,
      "id": "434d0dbe-fde6-49d3-94da-bcd9d8a1f9b2",
      "metadata": {
        "id": "434d0dbe-fde6-49d3-94da-bcd9d8a1f9b2"
      },
      "outputs": [],
      "source": [
        "class astra2 :\n",
        "\n",
        "    def student_details(self , name , mail_id , number) :\n",
        "        print(name , mail_id, number)\n",
        "\n",
        "    @staticmethod\n",
        "    def mentor_mail_id(maild_id_mentor) :\n",
        "        print(maild_id_mentor)\n",
        "\n",
        "    @staticmethod\n",
        "    def mentor_class(list_mentor) :\n",
        "        astr2.mentor_mail_id([\"sudh@gmail.com\" , \"sunil@gmail.com\"])\n",
        "        print(list_mentor)\n",
        "\n",
        "    @classmethod\n",
        "    def class_name(cls):\n",
        "        cls.mentor_class([\"sudh\" , \"sunil\"])\n",
        "\n",
        "\n",
        "\n",
        "    def mentor(self ,mentor_list):\n",
        "        print(mentor_list)\n",
        "        self.mentor_class([\"sunil\" , \"sudh\"])"
      ]
    },
    {
      "cell_type": "code",
      "execution_count": null,
      "id": "19a30787-dbf6-4ad7-8b38-aa7d351e6176",
      "metadata": {
        "id": "19a30787-dbf6-4ad7-8b38-aa7d351e6176",
        "outputId": "5418b05a-8f54-48f9-a82b-94cab50478c0",
        "colab": {
          "base_uri": "https://localhost:8080/"
        }
      },
      "outputs": [
        {
          "output_type": "stream",
          "name": "stdout",
          "text": [
            "['sudh@gmail.com', 'sunil@gmail.com']\n",
            "['sunil', 'sudh']\n"
          ]
        }
      ],
      "source": [
        "astra2.mentor_class([\"sunil\" , \"sudh\"])"
      ]
    },
    {
      "cell_type": "code",
      "execution_count": null,
      "id": "52931bd1-3111-413e-8a03-3be0ab95496b",
      "metadata": {
        "id": "52931bd1-3111-413e-8a03-3be0ab95496b",
        "outputId": "5528b91d-1fad-45f8-c1c3-8b45669919a4",
        "colab": {
          "base_uri": "https://localhost:8080/"
        }
      },
      "outputs": [
        {
          "output_type": "stream",
          "name": "stdout",
          "text": [
            "['sudh@gmail.com', 'sunil@gmail.com']\n",
            "['sudh', 'sunil']\n"
          ]
        }
      ],
      "source": [
        "astra2.class_name()"
      ]
    },
    {
      "cell_type": "code",
      "execution_count": null,
      "id": "6804f9b0-67fe-43fb-8050-22e752ec3307",
      "metadata": {
        "id": "6804f9b0-67fe-43fb-8050-22e752ec3307"
      },
      "outputs": [],
      "source": [
        "pw = astra2()"
      ]
    },
    {
      "cell_type": "code",
      "execution_count": null,
      "id": "1c4c7a15-e0b8-4eb5-8e58-ec5f2ef59652",
      "metadata": {
        "id": "1c4c7a15-e0b8-4eb5-8e58-ec5f2ef59652",
        "outputId": "9a0073eb-5b91-475c-da5d-22f4c4094e83",
        "colab": {
          "base_uri": "https://localhost:8080/"
        }
      },
      "outputs": [
        {
          "output_type": "stream",
          "name": "stdout",
          "text": [
            "['sunil', 'sudh']\n",
            "['sudh@gmail.com', 'sunil@gmail.com']\n",
            "['sunil', 'sudh']\n"
          ]
        }
      ],
      "source": [
        "pw.mentor([\"sunil\" , \"sudh\"])"
      ]
    },
    {
      "cell_type": "code",
      "execution_count": null,
      "id": "c3162c06-e657-4b93-8c31-fd2d53398cb0",
      "metadata": {
        "id": "c3162c06-e657-4b93-8c31-fd2d53398cb0"
      },
      "outputs": [],
      "source": [
        "#ik vr liko,,vr vr use kro"
      ]
    }
  ],
  "metadata": {
    "kernelspec": {
      "display_name": "Python 3 (ipykernel)",
      "language": "python",
      "name": "python3"
    },
    "language_info": {
      "codemirror_mode": {
        "name": "ipython",
        "version": 3
      },
      "file_extension": ".py",
      "mimetype": "text/x-python",
      "name": "python",
      "nbconvert_exporter": "python",
      "pygments_lexer": "ipython3",
      "version": "3.10.8"
    },
    "colab": {
      "provenance": []
    }
  },
  "nbformat": 4,
  "nbformat_minor": 5
}